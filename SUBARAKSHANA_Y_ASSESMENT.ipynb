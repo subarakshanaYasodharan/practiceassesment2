{
  "nbformat": 4,
  "nbformat_minor": 0,
  "metadata": {
    "colab": {
      "name": "SUBARAKSHANA Y.ipynb",
      "provenance": [],
      "collapsed_sections": []
    },
    "kernelspec": {
      "name": "python3",
      "display_name": "Python 3"
    },
    "language_info": {
      "name": "python"
    }
  },
  "cells": [
    {
      "cell_type": "markdown",
      "source": [
        "**PRACTICE ASSIGNMENTS - SUBARAKSHANA Y**"
      ],
      "metadata": {
        "id": "pw8713cyNmZ3"
      }
    },
    {
      "cell_type": "markdown",
      "source": [
        "QUESTIONS DONE- 1, 35, 38, 41-90"
      ],
      "metadata": {
        "id": "aUkefoX8NzGk"
      }
    },
    {
      "cell_type": "code",
      "source": [
        "for i in range(2000,3200):\n",
        "    if(i%7==0 and i%5!=0):\n",
        "        print(i,end=',')"
      ],
      "metadata": {
        "colab": {
          "base_uri": "https://localhost:8080/"
        },
        "id": "1pV6ULjkOY4d",
        "outputId": "38f2adec-68f9-4f82-f05d-da6a6c73c6ec"
      },
      "execution_count": 101,
      "outputs": [
        {
          "output_type": "stream",
          "name": "stdout",
          "text": [
            "2002,2009,2016,2023,2037,2044,2051,2058,2072,2079,2086,2093,2107,2114,2121,2128,2142,2149,2156,2163,2177,2184,2191,2198,2212,2219,2226,2233,2247,2254,2261,2268,2282,2289,2296,2303,2317,2324,2331,2338,2352,2359,2366,2373,2387,2394,2401,2408,2422,2429,2436,2443,2457,2464,2471,2478,2492,2499,2506,2513,2527,2534,2541,2548,2562,2569,2576,2583,2597,2604,2611,2618,2632,2639,2646,2653,2667,2674,2681,2688,2702,2709,2716,2723,2737,2744,2751,2758,2772,2779,2786,2793,2807,2814,2821,2828,2842,2849,2856,2863,2877,2884,2891,2898,2912,2919,2926,2933,2947,2954,2961,2968,2982,2989,2996,3003,3017,3024,3031,3038,3052,3059,3066,3073,3087,3094,3101,3108,3122,3129,3136,3143,3157,3164,3171,3178,3192,3199,"
          ]
        }
      ]
    },
    {
      "cell_type": "markdown",
      "source": [
        "Aanswer1"
      ],
      "metadata": {
        "id": "9ESjc7zPOaaG"
      }
    },
    {
      "cell_type": "code",
      "source": [
        "def printValue(s1,s2):\n",
        "\tlen1 = len(s1)\n",
        "\tlen2 = len(s2)\n",
        "\tif len1 > len2:\n",
        "\t\tprint (s1)\n",
        "\telif len2 > len1:\n",
        "\t\tprint (s2)\n",
        "\telse:\n",
        "\t\tprint (s1)\n",
        "\t\tprint (s2)\n",
        "\n",
        "printValue(\"oneeeee\",\"three\")"
      ],
      "metadata": {
        "colab": {
          "base_uri": "https://localhost:8080/"
        },
        "id": "elvo4bpuGrOQ",
        "outputId": "a69a0517-7368-4966-f827-9506b64b2616"
      },
      "execution_count": 89,
      "outputs": [
        {
          "output_type": "stream",
          "name": "stdout",
          "text": [
            "oneeeee\n"
          ]
        }
      ]
    },
    {
      "cell_type": "markdown",
      "source": [
        "answer35"
      ],
      "metadata": {
        "id": "ncfJHcWWGEtX"
      }
    },
    {
      "cell_type": "code",
      "source": [
        "tuple = (1,2,3,4,5,6,7,8,9,10)\n",
        "tuple1 = tuple[:5]\n",
        "tuple2 = tuple[5:]\n",
        "print (tuple1)\n",
        "print (tuple2)"
      ],
      "metadata": {
        "colab": {
          "base_uri": "https://localhost:8080/"
        },
        "id": "CQVt3aREB_Ui",
        "outputId": "aa786afe-bc82-4314-f7eb-a56cce4366b5"
      },
      "execution_count": 85,
      "outputs": [
        {
          "output_type": "stream",
          "name": "stdout",
          "text": [
            "(1, 2, 3, 4, 5)\n",
            "(6, 7, 8, 9, 10)\n"
          ]
        }
      ]
    },
    {
      "cell_type": "markdown",
      "source": [
        "answer38"
      ],
      "metadata": {
        "id": "HV2P2gJEB9Ff"
      }
    },
    {
      "cell_type": "code",
      "source": [
        "list1 = [1,2,3,4,5,6,7,8,9,10]\n",
        "num1 = map(lambda x: x**2, list1)\n",
        "print(list(num1))  "
      ],
      "metadata": {
        "colab": {
          "base_uri": "https://localhost:8080/"
        },
        "id": "1yQqSAjs_ib-",
        "outputId": "dcbdc5eb-ae15-4924-8f52-92e68ef865ae"
      },
      "execution_count": 64,
      "outputs": [
        {
          "output_type": "stream",
          "name": "stdout",
          "text": [
            "[1, 4, 9, 16, 25, 36, 49, 64, 81, 100]\n"
          ]
        }
      ]
    },
    {
      "cell_type": "markdown",
      "source": [
        "answer41"
      ],
      "metadata": {
        "id": "kPQNlZ5G_gjZ"
      }
    },
    {
      "cell_type": "code",
      "source": [
        "def even(x):\n",
        "    return x%2==0\n",
        "\n",
        "def square(x):\n",
        "    return x*x\n",
        "\n",
        "list1 = [1,2,3,4,5,6,7,8,9,10]\n",
        "list1 = map(square,filter(even,list1))\n",
        "print(list(list1))"
      ],
      "metadata": {
        "colab": {
          "base_uri": "https://localhost:8080/"
        },
        "id": "RuWK6ylq_B-X",
        "outputId": "96b8cf13-20a4-414d-d0f6-ce1a9818f059"
      },
      "execution_count": 62,
      "outputs": [
        {
          "output_type": "stream",
          "name": "stdout",
          "text": [
            "[4, 16, 36, 64, 100]\n"
          ]
        }
      ]
    },
    {
      "cell_type": "markdown",
      "source": [
        "answer42"
      ],
      "metadata": {
        "id": "ZR2MXYAm_AII"
      }
    },
    {
      "cell_type": "code",
      "source": [
        "def even(x):\n",
        "    return x%2==0\n",
        "num = filter(even, range(1,21))\n",
        "print(list(num))"
      ],
      "metadata": {
        "colab": {
          "base_uri": "https://localhost:8080/"
        },
        "id": "GG-5Ancs941i",
        "outputId": "1bfd85ea-62f6-430d-bfd1-270306ae8515"
      },
      "execution_count": 59,
      "outputs": [
        {
          "output_type": "stream",
          "name": "stdout",
          "text": [
            "[2, 4, 6, 8, 10, 12, 14, 16, 18, 20]\n"
          ]
        }
      ]
    },
    {
      "cell_type": "markdown",
      "source": [
        "answer43"
      ],
      "metadata": {
        "id": "2bBLKdFk91m-"
      }
    },
    {
      "cell_type": "code",
      "source": [
        "def sqr(x):\n",
        "    return x*x\n",
        "\n",
        "squaredNumbers = list(map(sqr, range(1,21)))\n",
        "print (squaredNumbers)"
      ],
      "metadata": {
        "colab": {
          "base_uri": "https://localhost:8080/"
        },
        "id": "AMlvqthw9oSk",
        "outputId": "5673c547-a923-48f9-c56b-40238a4bf037"
      },
      "execution_count": 58,
      "outputs": [
        {
          "output_type": "stream",
          "name": "stdout",
          "text": [
            "[1, 4, 9, 16, 25, 36, 49, 64, 81, 100, 121, 144, 169, 196, 225, 256, 289, 324, 361, 400]\n"
          ]
        }
      ]
    },
    {
      "cell_type": "markdown",
      "source": [
        "*answer44"
      ],
      "metadata": {
        "id": "k4ZpH7EW8wxu"
      }
    },
    {
      "cell_type": "code",
      "source": [
        "class American():\n",
        "    @staticmethod\n",
        "    def printNationality():\n",
        "        print(\"this is method American\")\n",
        "\n",
        "american = American()\n",
        "american.printNationality()   \n",
        " "
      ],
      "metadata": {
        "colab": {
          "base_uri": "https://localhost:8080/"
        },
        "id": "m4DefMyX8i9s",
        "outputId": "06694597-604b-49a3-d1f1-95370a79e2c3"
      },
      "execution_count": 57,
      "outputs": [
        {
          "output_type": "stream",
          "name": "stdout",
          "text": [
            "this is method American\n"
          ]
        }
      ]
    },
    {
      "cell_type": "markdown",
      "source": [
        "answer45"
      ],
      "metadata": {
        "id": "uvVQyfXq8glD"
      }
    },
    {
      "cell_type": "code",
      "source": [
        "class American():\n",
        "    pass\n",
        "\n",
        "class NewYorker(American):\n",
        "    pass\n",
        "\n",
        "american = American()\n",
        "newyorker = NewYorker()\n",
        "\n",
        "print(american)\n",
        "print(newyorker)"
      ],
      "metadata": {
        "colab": {
          "base_uri": "https://localhost:8080/"
        },
        "id": "cbjru5ND8PDi",
        "outputId": "c9bd75df-0fb0-447e-8476-7f5552a34c4f"
      },
      "execution_count": 55,
      "outputs": [
        {
          "output_type": "stream",
          "name": "stdout",
          "text": [
            "<__main__.American object at 0x7fdc3f0a1810>\n",
            "<__main__.NewYorker object at 0x7fdc3f0ec250>\n"
          ]
        }
      ]
    },
    {
      "cell_type": "markdown",
      "source": [
        "answer46"
      ],
      "metadata": {
        "id": "_4NiSnGV8L28"
      }
    },
    {
      "cell_type": "code",
      "source": [
        "class Circle():\n",
        "    def __init__(self,r):\n",
        "        self.radius = r\n",
        "\n",
        "    def area(self):\n",
        "        return 3.141*(self.radius**2)\n",
        "\n",
        "\n",
        "circle = Circle(7)\n",
        "print(circle.area())"
      ],
      "metadata": {
        "colab": {
          "base_uri": "https://localhost:8080/"
        },
        "id": "TDE1FeCG8E97",
        "outputId": "f09ce852-05b2-4888-87b9-462433786151"
      },
      "execution_count": 54,
      "outputs": [
        {
          "output_type": "stream",
          "name": "stdout",
          "text": [
            "153.909\n"
          ]
        }
      ]
    },
    {
      "cell_type": "markdown",
      "source": [
        "answer47"
      ],
      "metadata": {
        "id": "GNzAFrdN8Etv"
      }
    },
    {
      "cell_type": "code",
      "source": [
        "class Shape():\n",
        "    def __init__(self):\n",
        "        pass\n",
        "\n",
        "    def area(self):\n",
        "        return 0\n",
        "\n",
        "class Square(Shape):\n",
        "    def __init__(self,length = 0):\n",
        "        Shape.__init__(self)\n",
        "        self.length = length\n",
        "\n",
        "    def area(self):\n",
        "        return self.length*self.length\n",
        "\n",
        "Asqr = Square(8)\n",
        "print(Asqr.area())      \n",
        "\n",
        "print(Square().area())"
      ],
      "metadata": {
        "colab": {
          "base_uri": "https://localhost:8080/"
        },
        "id": "3iAlR-HY7bo-",
        "outputId": "ba424eb8-18b6-42ca-c7a2-cc9ad988782f"
      },
      "execution_count": 53,
      "outputs": [
        {
          "output_type": "stream",
          "name": "stdout",
          "text": [
            "64\n",
            "0\n"
          ]
        }
      ]
    },
    {
      "cell_type": "markdown",
      "source": [
        "answer48"
      ],
      "metadata": {
        "id": "7n8qgfJ-7cWs"
      }
    },
    {
      "cell_type": "code",
      "source": [
        "class Circle():\n",
        "    def __init__(self,r):\n",
        "        self.radius = r\n",
        "\n",
        "    def area(self):\n",
        "        return 3.14*(self.radius**2)\n",
        "\n",
        "\n",
        "circle = Circle(8)\n",
        "print(circle.area())"
      ],
      "metadata": {
        "colab": {
          "base_uri": "https://localhost:8080/"
        },
        "id": "GMOlmYTg6hQ4",
        "outputId": "1e9e46d1-7034-438d-e7ef-bb117bbff45d"
      },
      "execution_count": 52,
      "outputs": [
        {
          "output_type": "stream",
          "name": "stdout",
          "text": [
            "200.96\n"
          ]
        }
      ]
    },
    {
      "cell_type": "markdown",
      "source": [
        "answer49"
      ],
      "metadata": {
        "id": "CHmSx7kh6egn"
      }
    },
    {
      "cell_type": "code",
      "execution_count": 49,
      "metadata": {
        "colab": {
          "base_uri": "https://localhost:8080/"
        },
        "id": "FHUrMk_dW7e6",
        "outputId": "1c147eae-d4a1-4f70-bb6f-4475f1cbcb21"
      },
      "outputs": [
        {
          "output_type": "stream",
          "name": "stdout",
          "text": [
            "division by zero error\n",
            "finally block\n"
          ]
        }
      ],
      "source": [
        "def throws():\n",
        "    return 5/0\n",
        "\n",
        "try:\n",
        "    throws()\n",
        "except ZeroDivisionError:\n",
        "    print (\"division by zero error\")\n",
        "except Exception as err:\n",
        "    print (\"Caught an exception\")\n",
        "finally:\n",
        "    print (\"finally block\")"
      ]
    },
    {
      "cell_type": "markdown",
      "source": [
        "#answer 51\n",
        "\n",
        "```\n",
        "# This is formatted as code\n",
        "```\n",
        "\n"
      ],
      "metadata": {
        "id": "pCWO_lSPcnxd"
      }
    },
    {
      "cell_type": "code",
      "source": [
        "class MyError(Exception):\n",
        "    \"\"\"My own exception class\n",
        "\n",
        "    \"\"\"\n",
        "\n",
        "    def __init__(self, msg):\n",
        "        self.msg = msg\n",
        "\n",
        "error = MyError(\"something wrong\")"
      ],
      "metadata": {
        "id": "KoV8o4zFd4JU"
      },
      "execution_count": 5,
      "outputs": []
    },
    {
      "cell_type": "markdown",
      "source": [
        ""
      ],
      "metadata": {
        "id": "t4B49O7qd31c"
      }
    },
    {
      "cell_type": "markdown",
      "source": [
        "#**answer52**"
      ],
      "metadata": {
        "id": "S7ycC2xmdZrP"
      }
    },
    {
      "cell_type": "code",
      "source": [
        "import re\n",
        "\n",
        "email = \"john@google.com\"\n",
        "pattern = \"(\\w+)@\\w+.com\"\n",
        "ans = re.findall(pattern,email)\n",
        "print(ans)"
      ],
      "metadata": {
        "colab": {
          "base_uri": "https://localhost:8080/"
        },
        "id": "QsoL1rRi3_EB",
        "outputId": "b298cd1a-9f0d-46b5-e79c-aaeede346f13"
      },
      "execution_count": 46,
      "outputs": [
        {
          "output_type": "stream",
          "name": "stdout",
          "text": [
            "['john']\n"
          ]
        }
      ]
    },
    {
      "cell_type": "markdown",
      "source": [
        "answer53"
      ],
      "metadata": {
        "id": "xE7VMsEG4CEN"
      }
    },
    {
      "cell_type": "code",
      "source": [
        ""
      ],
      "metadata": {
        "id": "vhPiKFrNdc2u"
      },
      "execution_count": 4,
      "outputs": []
    },
    {
      "cell_type": "code",
      "source": [
        "\n",
        "\n",
        "import re\n",
        "\n",
        "email = \"john@google.com \"\n",
        "pattern = \"\\w+@(\\w+).com\"\n",
        "ans = re.findall(pattern,email)\n",
        "print(ans)"
      ],
      "metadata": {
        "colab": {
          "base_uri": "https://localhost:8080/"
        },
        "id": "248HorQVd7ir",
        "outputId": "0fcc59bd-44e7-4e34-e684-b93d426acc32"
      },
      "execution_count": 48,
      "outputs": [
        {
          "output_type": "stream",
          "name": "stdout",
          "text": [
            "['google']\n"
          ]
        }
      ]
    },
    {
      "cell_type": "markdown",
      "source": [
        "#answer54"
      ],
      "metadata": {
        "id": "PP07qS3EeWm0"
      }
    },
    {
      "cell_type": "code",
      "source": [
        "sentence = input().split()\n",
        "ans = [sentence for sentence in sentence if sentence.isdigit()] \n",
        "print(ans)"
      ],
      "metadata": {
        "colab": {
          "base_uri": "https://localhost:8080/"
        },
        "id": "BiPrTrUteZz8",
        "outputId": "3ce2b416-71d3-4ab5-e0fc-5e0bc0279b89"
      },
      "execution_count": 9,
      "outputs": [
        {
          "output_type": "stream",
          "name": "stdout",
          "text": [
            "2 cat 3 dog\n",
            "['2', '3']\n"
          ]
        }
      ]
    },
    {
      "cell_type": "markdown",
      "source": [
        "answer55"
      ],
      "metadata": {
        "id": "2GsuqICthqiM"
      }
    },
    {
      "cell_type": "code",
      "source": [
        "unicodeString = u\"hello suba!\"\n",
        "print (unicodeString)"
      ],
      "metadata": {
        "colab": {
          "base_uri": "https://localhost:8080/"
        },
        "id": "iv9Tokfths_P",
        "outputId": "c0aae394-5fa9-4e49-880e-e8f3544f6c33"
      },
      "execution_count": 11,
      "outputs": [
        {
          "output_type": "stream",
          "name": "stdout",
          "text": [
            "hello suba!\n"
          ]
        }
      ]
    },
    {
      "cell_type": "markdown",
      "source": [
        "answer56"
      ],
      "metadata": {
        "id": "yEiBA6CAh8vs"
      }
    },
    {
      "cell_type": "code",
      "source": [
        "sen = input()\n",
        "out = sen.encode('utf-8')\n",
        "print(out)"
      ],
      "metadata": {
        "colab": {
          "base_uri": "https://localhost:8080/"
        },
        "id": "JGzXRw6ViULz",
        "outputId": "84b2535c-e20b-4945-890d-a4b21c67b613"
      },
      "execution_count": 12,
      "outputs": [
        {
          "output_type": "stream",
          "name": "stdout",
          "text": [
            "suba\n",
            "b'suba'\n"
          ]
        }
      ]
    },
    {
      "cell_type": "markdown",
      "source": [
        "answer57"
      ],
      "metadata": {
        "id": "cWgiwkvuixDF"
      }
    },
    {
      "cell_type": "code",
      "source": [
        "# -*- coding: utf-8 -*-"
      ],
      "metadata": {
        "id": "O9REyQkbizrs"
      },
      "execution_count": 13,
      "outputs": []
    },
    {
      "cell_type": "markdown",
      "source": [
        "answer58"
      ],
      "metadata": {
        "id": "bHtJb1kvjGa7"
      }
    },
    {
      "cell_type": "code",
      "source": [
        "num = int(input())\n",
        "sum = 0\n",
        "for i in range(1, num+1):\n",
        "    sum+= i/(i+1)\n",
        "print(round(sum, 2))"
      ],
      "metadata": {
        "colab": {
          "base_uri": "https://localhost:8080/"
        },
        "id": "plhejaGyjJML",
        "outputId": "cbf375c5-f863-4ad9-a22a-b523f91ad7f2"
      },
      "execution_count": 14,
      "outputs": [
        {
          "output_type": "stream",
          "name": "stdout",
          "text": [
            "5\n",
            "3.55\n"
          ]
        }
      ]
    },
    {
      "cell_type": "markdown",
      "source": [
        "answer59"
      ],
      "metadata": {
        "id": "NyEhSzUUmbIu"
      }
    },
    {
      "cell_type": "code",
      "source": [
        "def fun(n):\n",
        "    if n == 0:\n",
        "        return 0\n",
        "    return fun(n-1) + 100\n",
        "\n",
        "n = int(input())\n",
        "print(fun(n))"
      ],
      "metadata": {
        "colab": {
          "base_uri": "https://localhost:8080/"
        },
        "id": "_J6NV6ldmeu0",
        "outputId": "1a29e95c-9d4b-4f6d-83ad-8d0d8a0baaa4"
      },
      "execution_count": 15,
      "outputs": [
        {
          "output_type": "stream",
          "name": "stdout",
          "text": [
            "5\n",
            "500\n"
          ]
        }
      ]
    },
    {
      "cell_type": "markdown",
      "source": [
        "answer 60"
      ],
      "metadata": {
        "id": "uEXXnjJ6moqz"
      }
    },
    {
      "cell_type": "code",
      "source": [
        "def fun(n):\n",
        "    if n < 2:\n",
        "        return n\n",
        "    return fun(n-1) + fun(n-2)\n",
        "\n",
        "n = int(input())\n",
        "print(fun(n))"
      ],
      "metadata": {
        "colab": {
          "base_uri": "https://localhost:8080/"
        },
        "id": "ZRFKqO0imrk0",
        "outputId": "d293b183-f0c2-4db9-c145-63f7dd7a6ec3"
      },
      "execution_count": 16,
      "outputs": [
        {
          "output_type": "stream",
          "name": "stdout",
          "text": [
            "7\n",
            "13\n"
          ]
        }
      ]
    },
    {
      "cell_type": "markdown",
      "source": [
        "answer61\n"
      ],
      "metadata": {
        "id": "4SwOHXPnm2ar"
      }
    },
    {
      "cell_type": "code",
      "source": [
        "def fibo(n):\n",
        "    if n < 2:\n",
        "      return n\n",
        "    else:\n",
        "\t    return fibo(n-1)+fibo(n-2)\n",
        "\n",
        "def print_fiblist(n):\n",
        "    fib_list = [(str(fibo(i))) for i in range(0, n+1)]\n",
        "    return print(\",\".join(fib_list))\n",
        "n = int(input())\n",
        "print_fiblist(n)"
      ],
      "metadata": {
        "colab": {
          "base_uri": "https://localhost:8080/"
        },
        "id": "K1V6LESsm4JT",
        "outputId": "bfeded32-6872-4fb1-f3ac-6c9e7333dceb"
      },
      "execution_count": 17,
      "outputs": [
        {
          "output_type": "stream",
          "name": "stdout",
          "text": [
            "7\n",
            "0,1,1,2,3,5,8,13\n"
          ]
        }
      ]
    },
    {
      "cell_type": "markdown",
      "source": [
        "answer62"
      ],
      "metadata": {
        "id": "WkJFv60Pn0am"
      }
    },
    {
      "cell_type": "code",
      "source": [
        "n = int(input())\n",
        "\n",
        "for i in range(0, n+1, 2):\n",
        "  if i < n - 1:\n",
        "    print(i, end = ',' )\n",
        "  else:\n",
        "    print(i)"
      ],
      "metadata": {
        "colab": {
          "base_uri": "https://localhost:8080/"
        },
        "id": "Qhw_7s17n3wU",
        "outputId": "f8ebd4fd-1d50-41a5-ea8a-77020a42a0a8"
      },
      "execution_count": 18,
      "outputs": [
        {
          "output_type": "stream",
          "name": "stdout",
          "text": [
            "10\n",
            "0,2,4,6,8,10\n"
          ]
        }
      ]
    },
    {
      "cell_type": "markdown",
      "source": [
        "answer63"
      ],
      "metadata": {
        "id": "JUGHlGKOoOq0"
      }
    },
    {
      "cell_type": "code",
      "source": [
        "def function(n):\n",
        "    for i in range(n+1):\n",
        "        if i % 35 == 0:   \n",
        "            yield i\n",
        "\n",
        "n = int(input())\n",
        "com = [str(i) for i in function(n)]\n",
        "print(\",\".join(com))"
      ],
      "metadata": {
        "colab": {
          "base_uri": "https://localhost:8080/"
        },
        "id": "gy0FalK0oS50",
        "outputId": "4df106af-32ca-45c8-cd88-3bfc6a47d913"
      },
      "execution_count": 19,
      "outputs": [
        {
          "output_type": "stream",
          "name": "stdout",
          "text": [
            "100\n",
            "0,35,70\n"
          ]
        }
      ]
    },
    {
      "cell_type": "markdown",
      "source": [
        "answer64"
      ],
      "metadata": {
        "id": "SR-V8vIuoqoE"
      }
    },
    {
      "cell_type": "code",
      "source": [
        "list1 = [2,4,6,8,10]\n",
        "for i in list1:\n",
        "    assert i%2==0"
      ],
      "metadata": {
        "id": "rf785eyAosCk"
      },
      "execution_count": 21,
      "outputs": []
    },
    {
      "cell_type": "markdown",
      "source": [
        "answer65"
      ],
      "metadata": {
        "id": "X-JHarD-pOzU"
      }
    },
    {
      "cell_type": "code",
      "source": [
        "input = input()\n",
        "ans = eval(input)\n",
        "print(ans)"
      ],
      "metadata": {
        "colab": {
          "base_uri": "https://localhost:8080/"
        },
        "id": "uglx4M0epQBz",
        "outputId": "4d151fa6-5672-4667-b07f-2c17da2aaea0"
      },
      "execution_count": 22,
      "outputs": [
        {
          "output_type": "stream",
          "name": "stdout",
          "text": [
            "35+3\n",
            "38\n"
          ]
        }
      ]
    },
    {
      "cell_type": "markdown",
      "source": [
        "answer66"
      ],
      "metadata": {
        "id": "mkDzXzaxphfk"
      }
    },
    {
      "cell_type": "code",
      "source": [
        "def binary(lst, num):\n",
        "    low = 0\n",
        "    high = len(lst) - 1\n",
        "    \n",
        "    while low <= high:\n",
        "        mid = round((low + high) / 2)\n",
        "        \n",
        "        if lst[mid] == num:\n",
        "            return mid\n",
        "        elif lst[mid] > num:\n",
        "            high = mid - 1\n",
        "        else:\n",
        "            low = mid + 1\n",
        "    return None\n",
        "    \n",
        "lst = [1,7,8,9,10]\n",
        "print(binary(lst, 6))   "
      ],
      "metadata": {
        "colab": {
          "base_uri": "https://localhost:8080/"
        },
        "id": "JAegtKAtpiuX",
        "outputId": "5a21bc49-a820-4fb8-d59e-0aae3c5e7f8b"
      },
      "execution_count": 23,
      "outputs": [
        {
          "output_type": "stream",
          "name": "stdout",
          "text": [
            "None\n"
          ]
        }
      ]
    },
    {
      "cell_type": "markdown",
      "source": [
        "answer67"
      ],
      "metadata": {
        "id": "__-94BbJqaNd"
      }
    },
    {
      "cell_type": "code",
      "source": [
        "import random\n",
        "randomnum = random.uniform(10,100)\n",
        "print(randomnum)"
      ],
      "metadata": {
        "colab": {
          "base_uri": "https://localhost:8080/"
        },
        "id": "-b4REhMTqbuD",
        "outputId": "9b4fe081-d5ac-4ae4-c4df-8d243da82027"
      },
      "execution_count": 24,
      "outputs": [
        {
          "output_type": "stream",
          "name": "stdout",
          "text": [
            "83.35564671995891\n"
          ]
        }
      ]
    },
    {
      "cell_type": "markdown",
      "source": [
        "answer68"
      ],
      "metadata": {
        "id": "KM_6172sqkQM"
      }
    },
    {
      "cell_type": "code",
      "source": [
        "import random\n",
        "print (random.random()*100-5)\n"
      ],
      "metadata": {
        "colab": {
          "base_uri": "https://localhost:8080/"
        },
        "id": "4NUyuHv2qlnl",
        "outputId": "265ff3fd-0e19-42b2-9d2b-7cd56fe4f09c"
      },
      "execution_count": 25,
      "outputs": [
        {
          "output_type": "stream",
          "name": "stdout",
          "text": [
            "84.70535578197637\n"
          ]
        }
      ]
    },
    {
      "cell_type": "markdown",
      "source": [
        "answer69"
      ],
      "metadata": {
        "id": "JJOoZaizq3AM"
      }
    },
    {
      "cell_type": "code",
      "source": [
        "import random\n",
        "out = [i for i in range(0,11,2)]\n",
        "print(random.choice(out))\n"
      ],
      "metadata": {
        "colab": {
          "base_uri": "https://localhost:8080/"
        },
        "id": "Fr2BGJATrcus",
        "outputId": "0092e107-dd3d-4d1c-81f9-b777270aad6e"
      },
      "execution_count": 27,
      "outputs": [
        {
          "output_type": "stream",
          "name": "stdout",
          "text": [
            "10\n"
          ]
        }
      ]
    },
    {
      "cell_type": "markdown",
      "source": [
        "answer70"
      ],
      "metadata": {
        "id": "N0d9qCFOruFz"
      }
    },
    {
      "cell_type": "code",
      "source": [
        "import random\n",
        "out = [i for i in range(10,151) if i % 35 == 0 ]\n",
        "print(random.choice(out))"
      ],
      "metadata": {
        "colab": {
          "base_uri": "https://localhost:8080/"
        },
        "id": "Xc4cHZYWrwPz",
        "outputId": "030c2ac6-2b1f-4939-ed40-11f62eb1b0ff"
      },
      "execution_count": 28,
      "outputs": [
        {
          "output_type": "stream",
          "name": "stdout",
          "text": [
            "105\n"
          ]
        }
      ]
    },
    {
      "cell_type": "markdown",
      "source": [
        "answer71"
      ],
      "metadata": {
        "id": "SUPKG_Qnr9Z0"
      }
    },
    {
      "cell_type": "code",
      "source": [
        "import random\n",
        "print (random.sample(range(100,201), 5))"
      ],
      "metadata": {
        "colab": {
          "base_uri": "https://localhost:8080/"
        },
        "id": "T2rpEwDwr-6O",
        "outputId": "2048e2de-be39-4d23-d650-086de22b1050"
      },
      "execution_count": 31,
      "outputs": [
        {
          "output_type": "stream",
          "name": "stdout",
          "text": [
            "[118, 169, 121, 135, 124]\n"
          ]
        }
      ]
    },
    {
      "cell_type": "markdown",
      "source": [
        "answer72"
      ],
      "metadata": {
        "id": "aEURlLSesMQr"
      }
    },
    {
      "cell_type": "code",
      "source": [
        "import random\n",
        "out = random.sample(range(100,201,2),5)\n",
        "print(out)"
      ],
      "metadata": {
        "colab": {
          "base_uri": "https://localhost:8080/"
        },
        "id": "avkmSopcsNuT",
        "outputId": "182d0596-d15c-46f0-a294-180b7a24518b"
      },
      "execution_count": 32,
      "outputs": [
        {
          "output_type": "stream",
          "name": "stdout",
          "text": [
            "[152, 198, 196, 192, 136]\n"
          ]
        }
      ]
    },
    {
      "cell_type": "markdown",
      "source": [
        "answer73"
      ],
      "metadata": {
        "id": "Oq3kve6ysYPz"
      }
    },
    {
      "cell_type": "code",
      "source": [
        "import random\n",
        "list1 = [i for i in range(1,1001) if i%35 == 0]\n",
        "out = random.sample(list1,5)\n",
        "print(out)"
      ],
      "metadata": {
        "colab": {
          "base_uri": "https://localhost:8080/"
        },
        "id": "Prfdjo1FsaAb",
        "outputId": "23684f2c-bb9b-4b59-9385-2762d3f0a0af"
      },
      "execution_count": 33,
      "outputs": [
        {
          "output_type": "stream",
          "name": "stdout",
          "text": [
            "[560, 245, 525, 105, 420]\n"
          ]
        }
      ]
    },
    {
      "cell_type": "markdown",
      "source": [
        "answer74"
      ],
      "metadata": {
        "id": "xJK-dXMDslbU"
      }
    },
    {
      "cell_type": "code",
      "source": [
        "import random\n",
        "print (random.randrange(7,16))"
      ],
      "metadata": {
        "colab": {
          "base_uri": "https://localhost:8080/"
        },
        "id": "xvsJa7IQsmsr",
        "outputId": "140ea45b-bf63-4995-9bd6-65371a7ed26e"
      },
      "execution_count": 34,
      "outputs": [
        {
          "output_type": "stream",
          "name": "stdout",
          "text": [
            "15\n"
          ]
        }
      ]
    },
    {
      "cell_type": "markdown",
      "source": [
        "answer75"
      ],
      "metadata": {
        "id": "OHcU4rzVs2Br"
      }
    },
    {
      "cell_type": "code",
      "source": [
        "string = 'hello world!hello world!hello world!hello world!'\n",
        "x1 = bytes(s, 'utf-8')\n",
        "x2 = zlib.compress(x1)\n",
        "print(x2)\n",
        "print(zlib.decompress(x2))"
      ],
      "metadata": {
        "colab": {
          "base_uri": "https://localhost:8080/"
        },
        "id": "4OtRjPwts3as",
        "outputId": "ec20637d-4dbd-4784-fb22-7b6fb72b8c8a"
      },
      "execution_count": 38,
      "outputs": [
        {
          "output_type": "stream",
          "name": "stdout",
          "text": [
            "b'x\\x9c\\xcbH\\xcd\\xc9\\xc9W(\\xcf/\\xcaIQ\\xcc \\x82\\r\\x00\\xbd[\\x11\\xf5'\n",
            "b'hello world!hello world!hello world!hello world!'\n"
          ]
        }
      ]
    },
    {
      "cell_type": "markdown",
      "source": [
        "answer76"
      ],
      "metadata": {
        "id": "dYkh7mmy1w3f"
      }
    },
    {
      "cell_type": "code",
      "source": [
        "import time\n",
        "\n",
        "time1 = time.time()\n",
        "for i in range(100):\n",
        "    x = 1 + 1\n",
        "time2 = time.time()\n",
        "time = time2 - time1\n",
        "print(time)"
      ],
      "metadata": {
        "colab": {
          "base_uri": "https://localhost:8080/"
        },
        "id": "ar0MMOH11z12",
        "outputId": "e4686076-f251-4c97-e7fe-f75791fd5e9a"
      },
      "execution_count": 40,
      "outputs": [
        {
          "output_type": "stream",
          "name": "stdout",
          "text": [
            "8.869171142578125e-05\n"
          ]
        }
      ]
    },
    {
      "cell_type": "markdown",
      "source": [
        "answer77"
      ],
      "metadata": {
        "id": "va3EWPEB2LIm"
      }
    },
    {
      "cell_type": "code",
      "source": [
        "import random\n",
        "list1 = [3,6,7,8]\n",
        "random.shuffle(list1)\n",
        "print(list1)"
      ],
      "metadata": {
        "colab": {
          "base_uri": "https://localhost:8080/"
        },
        "id": "PXJ2zlUD2M02",
        "outputId": "b4a11a7c-d568-4121-b08b-168c760ea48d"
      },
      "execution_count": 41,
      "outputs": [
        {
          "output_type": "stream",
          "name": "stdout",
          "text": [
            "[6, 3, 7, 8]\n"
          ]
        }
      ]
    },
    {
      "cell_type": "markdown",
      "source": [
        "answer78"
      ],
      "metadata": {
        "id": "0zsy0OjF2XuO"
      }
    },
    {
      "cell_type": "code",
      "source": [
        "subjects=[\"I\", \"You\"]\n",
        "verbs=[\"Play\", \"Love\"]\n",
        "objects=[\"Hockey\",\"Football\"]\n",
        "\n",
        "for x in subjects:\n",
        "    for y in verbs:\n",
        "        for z in objects:\n",
        "            print(\"{} {} {}\".format(x,y,z))"
      ],
      "metadata": {
        "colab": {
          "base_uri": "https://localhost:8080/"
        },
        "id": "oWlXUhf92b7V",
        "outputId": "9e66ff37-162e-4725-b017-91478fd53c90"
      },
      "execution_count": 43,
      "outputs": [
        {
          "output_type": "stream",
          "name": "stdout",
          "text": [
            "I Play Hockey\n",
            "I Play Football\n",
            "I Love Hockey\n",
            "I Love Football\n",
            "You Play Hockey\n",
            "You Play Football\n",
            "You Love Hockey\n",
            "You Love Football\n"
          ]
        }
      ]
    },
    {
      "cell_type": "markdown",
      "source": [
        "answer79"
      ],
      "metadata": {
        "id": "-_Vgqrgt21u8"
      }
    },
    {
      "cell_type": "code",
      "source": [
        "list1 = [5,6,77,45,22,12,24]\n",
        "list1 = [x for x in list1 if x%2!=0]\n",
        "print (list1)"
      ],
      "metadata": {
        "colab": {
          "base_uri": "https://localhost:8080/"
        },
        "id": "9OgtfBK524FT",
        "outputId": "5aa2daee-6e95-4cb9-d299-70169693107d"
      },
      "execution_count": 44,
      "outputs": [
        {
          "output_type": "stream",
          "name": "stdout",
          "text": [
            "[5, 77, 45]\n"
          ]
        }
      ]
    },
    {
      "cell_type": "markdown",
      "source": [
        "answer80"
      ],
      "metadata": {
        "id": "mEuWEJdC3Jnd"
      }
    },
    {
      "cell_type": "code",
      "source": [
        "list1 = [12,24,35,70,88,120,155]\n",
        "list1 = [x for x in list1 if x%5!=0 and x%7!=0]\n",
        "print (list1)"
      ],
      "metadata": {
        "colab": {
          "base_uri": "https://localhost:8080/"
        },
        "id": "PDhiwgV73Ia0",
        "outputId": "f8ffdd34-4e8a-462c-bc32-f3c2f401211d"
      },
      "execution_count": 45,
      "outputs": [
        {
          "output_type": "stream",
          "name": "stdout",
          "text": [
            "[12, 24, 88]\n"
          ]
        }
      ]
    },
    {
      "cell_type": "code",
      "source": [
        "l= [12,24,35,70,88,120,155]\n",
        "l= [x for (i,x) in enumerate(l) if i not in (0,2,4,6)]\n",
        "print(l)"
      ],
      "metadata": {
        "colab": {
          "base_uri": "https://localhost:8080/"
        },
        "id": "3cmilLWCH9dV",
        "outputId": "13d89c26-30ce-40e4-c66a-17740561c141"
      },
      "execution_count": 91,
      "outputs": [
        {
          "output_type": "stream",
          "name": "stdout",
          "text": [
            "[24, 70, 120]\n"
          ]
        }
      ]
    },
    {
      "cell_type": "markdown",
      "source": [
        "answer82"
      ],
      "metadata": {
        "id": "TpAbyRVpKa2L"
      }
    },
    {
      "cell_type": "code",
      "source": [
        "l= [12,24,35,70,88,120,155]\n",
        "l= [x for (i,x) in enumerate(l) if i not in (2,4)]\n",
        "print(l)"
      ],
      "metadata": {
        "colab": {
          "base_uri": "https://localhost:8080/"
        },
        "id": "kz2yVfNFKcZc",
        "outputId": "9ffd24f6-a630-4643-a4d7-1efdb51c402e"
      },
      "execution_count": 92,
      "outputs": [
        {
          "output_type": "stream",
          "name": "stdout",
          "text": [
            "[12, 24, 70, 120, 155]\n"
          ]
        }
      ]
    },
    {
      "cell_type": "markdown",
      "source": [
        "answer83"
      ],
      "metadata": {
        "id": "EHF2b51BLyFj"
      }
    },
    {
      "cell_type": "code",
      "source": [
        "array = [[ ['*' for col in range(3)] for col in range(5)] for row in range(8)]\n",
        "print(array)"
      ],
      "metadata": {
        "colab": {
          "base_uri": "https://localhost:8080/"
        },
        "id": "jxbTIxWmL0Bz",
        "outputId": "3bf9d2d9-273d-4892-e498-9050d22f702e"
      },
      "execution_count": 93,
      "outputs": [
        {
          "output_type": "stream",
          "name": "stdout",
          "text": [
            "[[['*', '*', '*'], ['*', '*', '*'], ['*', '*', '*'], ['*', '*', '*'], ['*', '*', '*']], [['*', '*', '*'], ['*', '*', '*'], ['*', '*', '*'], ['*', '*', '*'], ['*', '*', '*']], [['*', '*', '*'], ['*', '*', '*'], ['*', '*', '*'], ['*', '*', '*'], ['*', '*', '*']], [['*', '*', '*'], ['*', '*', '*'], ['*', '*', '*'], ['*', '*', '*'], ['*', '*', '*']], [['*', '*', '*'], ['*', '*', '*'], ['*', '*', '*'], ['*', '*', '*'], ['*', '*', '*']], [['*', '*', '*'], ['*', '*', '*'], ['*', '*', '*'], ['*', '*', '*'], ['*', '*', '*']], [['*', '*', '*'], ['*', '*', '*'], ['*', '*', '*'], ['*', '*', '*'], ['*', '*', '*']], [['*', '*', '*'], ['*', '*', '*'], ['*', '*', '*'], ['*', '*', '*'], ['*', '*', '*']]]\n"
          ]
        }
      ]
    },
    {
      "cell_type": "markdown",
      "source": [
        "answer84"
      ],
      "metadata": {
        "id": "xsujUUPzL5g7"
      }
    },
    {
      "cell_type": "code",
      "source": [
        "l= [12,24,35,70,88,120,155]\n",
        "l= [x for (i,x) in enumerate(l) if i not in (0,4,5)]\n",
        "print(l)"
      ],
      "metadata": {
        "colab": {
          "base_uri": "https://localhost:8080/"
        },
        "id": "TG9Uw2ZzL7rd",
        "outputId": "a91c2730-4853-4b49-9645-8a9cf369987a"
      },
      "execution_count": 94,
      "outputs": [
        {
          "output_type": "stream",
          "name": "stdout",
          "text": [
            "[24, 35, 70, 155]\n"
          ]
        }
      ]
    },
    {
      "cell_type": "markdown",
      "source": [
        "answer85"
      ],
      "metadata": {
        "id": "gxQOf04BMAL9"
      }
    },
    {
      "cell_type": "code",
      "source": [
        "l = [12,24,35,70,88,120,155]\n",
        "l.remove(24)\n",
        "print(l)"
      ],
      "metadata": {
        "colab": {
          "base_uri": "https://localhost:8080/"
        },
        "id": "gp2sJauXMCW8",
        "outputId": "11fe4cb3-a494-481f-d10e-4bf8e1b41a81"
      },
      "execution_count": 95,
      "outputs": [
        {
          "output_type": "stream",
          "name": "stdout",
          "text": [
            "[12, 35, 70, 88, 120, 155]\n"
          ]
        }
      ]
    },
    {
      "cell_type": "markdown",
      "source": [
        "answer86"
      ],
      "metadata": {
        "id": "xwfQRAYtMJBT"
      }
    },
    {
      "cell_type": "code",
      "source": [
        "def intersection(l1, l2):\n",
        "    l3 = [value for value in l1 if value in l2]\n",
        "    return l3\n",
        "l1=[1,3,6,78,35,55]    \n",
        "l2=[12,24,35,24,88,120,155]\n",
        "print(intersection(l1, l2))"
      ],
      "metadata": {
        "colab": {
          "base_uri": "https://localhost:8080/"
        },
        "id": "01wBcWxZMMR0",
        "outputId": "3f385d80-1209-4191-e3bb-fb5bf04cbe65"
      },
      "execution_count": 96,
      "outputs": [
        {
          "output_type": "stream",
          "name": "stdout",
          "text": [
            "[35]\n"
          ]
        }
      ]
    },
    {
      "cell_type": "markdown",
      "source": [
        "answer87"
      ],
      "metadata": {
        "id": "-EJ6_3J_MRXq"
      }
    },
    {
      "cell_type": "code",
      "source": [
        "def intersection(l1, l2):\n",
        "    l3 = [value for value in l1 if value in l2]\n",
        "    return l3\n",
        "l1=[1,3,6,78,35,55]    \n",
        "l2=[12,24,35,24,88,120,155]\n",
        "print(intersection(l1, l2))    "
      ],
      "metadata": {
        "id": "tS9gWI_pMTBc"
      },
      "execution_count": null,
      "outputs": []
    },
    {
      "cell_type": "markdown",
      "source": [
        "answer88"
      ],
      "metadata": {
        "id": "JkuqrR42MVUj"
      }
    },
    {
      "cell_type": "code",
      "source": [
        "class  Person(object):  \n",
        "    def  getGender(self):  \n",
        "        return  \"Not defined\"  \n",
        "class  Male(Person):  \n",
        "    def  getGender(self):  \n",
        "        return  \"Male\"  \n",
        "class  Female(Person):  \n",
        "    def  getGender(self):  \n",
        "        return  \"Female\"  \n",
        "male  =  Male()  \n",
        "female=  Female()  \n",
        "print(male.getGender())  \n",
        "print(female.getGender())"
      ],
      "metadata": {
        "colab": {
          "base_uri": "https://localhost:8080/"
        },
        "id": "rfFEtEa5MW5L",
        "outputId": "7e835c62-4cb8-4a4c-b47d-bf86e3b705cd"
      },
      "execution_count": 97,
      "outputs": [
        {
          "output_type": "stream",
          "name": "stdout",
          "text": [
            "Male\n",
            "Female\n"
          ]
        }
      ]
    },
    {
      "cell_type": "markdown",
      "source": [
        "answer89"
      ],
      "metadata": {
        "id": "5pUaM_2uMcJr"
      }
    }
  ]
}